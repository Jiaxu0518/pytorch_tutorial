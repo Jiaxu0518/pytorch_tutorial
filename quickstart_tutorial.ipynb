{
  "cells": [
    {
      "cell_type": "markdown",
      "metadata": {
        "id": "view-in-github",
        "colab_type": "text"
      },
      "source": [
        "<a href=\"https://colab.research.google.com/github/Jiaxu0518/pytorch_tutorial/blob/main/quickstart_tutorial.ipynb\" target=\"_parent\"><img src=\"https://colab.research.google.com/assets/colab-badge.svg\" alt=\"Open In Colab\"/></a>"
      ]
    },
    {
      "cell_type": "code",
      "execution_count": null,
      "metadata": {
        "id": "R_PZHutjKimf"
      },
      "outputs": [],
      "source": [
        "# For tips on running notebooks in Google Colab, see\n",
        "# https://pytorch.org/tutorials/beginner/colab\n",
        "%matplotlib inline"
      ]
    },
    {
      "cell_type": "markdown",
      "metadata": {
        "id": "ACRzwJ6WKimh"
      },
      "source": [
        "[Learn the Basics](intro.html) \\|\\| **Quickstart** \\|\\|\n",
        "[Tensors](tensorqs_tutorial.html) \\|\\| [Datasets &\n",
        "DataLoaders](data_tutorial.html) \\|\\|\n",
        "[Transforms](transforms_tutorial.html) \\|\\| [Build\n",
        "Model](buildmodel_tutorial.html) \\|\\|\n",
        "[Autograd](autogradqs_tutorial.html) \\|\\|\n",
        "[Optimization](optimization_tutorial.html) \\|\\| [Save & Load\n",
        "Model](saveloadrun_tutorial.html)\n",
        "\n",
        "Quickstart\n",
        "==========\n",
        "\n",
        "This section runs through the API for common tasks in machine learning.\n",
        "Refer to the links in each section to dive deeper.\n",
        "\n",
        "Working with data\n",
        "-----------------\n",
        "\n",
        "PyTorch has two [primitives to work with\n",
        "data](https://pytorch.org/docs/stable/data.html):\n",
        "`torch.utils.data.DataLoader` and `torch.utils.data.Dataset`. `Dataset`\n",
        "stores the samples and their corresponding labels, and `DataLoader`\n",
        "wraps an iterable around the `Dataset`.\n"
      ]
    },
    {
      "cell_type": "code",
      "execution_count": null,
      "metadata": {
        "id": "zuP2HFhxKiml"
      },
      "outputs": [],
      "source": [
        "import torch\n",
        "from torch import nn\n",
        "from torch.utils.data import DataLoader\n",
        "from torchvision import datasets\n",
        "from torchvision.transforms import ToTensor"
      ]
    },
    {
      "cell_type": "markdown",
      "metadata": {
        "id": "mWexlfZsKimn"
      },
      "source": [
        "PyTorch offers domain-specific libraries such as\n",
        "[TorchText](https://pytorch.org/text/stable/index.html),\n",
        "[TorchVision](https://pytorch.org/vision/stable/index.html), and\n",
        "[TorchAudio](https://pytorch.org/audio/stable/index.html), all of which\n",
        "include datasets. For this tutorial, we will be using a TorchVision\n",
        "dataset.\n",
        "\n",
        "The `torchvision.datasets` module contains `Dataset` objects for many\n",
        "real-world vision data like CIFAR, COCO ([full list\n",
        "here](https://pytorch.org/vision/stable/datasets.html)). In this\n",
        "tutorial, we use the FashionMNIST dataset. Every TorchVision `Dataset`\n",
        "includes two arguments: `transform` and `target_transform` to modify the\n",
        "samples and labels respectively.\n",
        "\n",
        "torchvision自带有datasets组件，该组件中包含FashinMNIST数据集，root=\"data\"用于指定数据集下载到本地的文件夹。FashionMNIST 的图像是单通道（灰度图），原始形状为 (H, W) = (28, 28)。\n",
        "ToTensor() 会添加一个通道维度，调整为 PyTorch 期望的格式 (C, H, W) = (1, 28, 28)（符合卷积层等操作的输入要求）。\n",
        "\n",
        "training_data的形态的理解：\n",
        "\n",
        "检查单个样本\n",
        "\n",
        "image, label = training_data[0]\n",
        "\n",
        "print(type(image))   # <class 'torch.Tensor'>\n",
        "\n",
        "print(image.shape)   # torch.Size([1, 28, 28]) (C, H, W)\n",
        "\n",
        "print(label)         # int (e.g., 9)"
      ]
    },
    {
      "cell_type": "code",
      "execution_count": null,
      "metadata": {
        "id": "C8Lw88rXKimo",
        "outputId": "22e40088-31e0-4f18-c014-2d61f653257b",
        "colab": {
          "base_uri": "https://localhost:8080/"
        }
      },
      "outputs": [
        {
          "output_type": "stream",
          "name": "stderr",
          "text": [
            "100%|██████████| 26.4M/26.4M [00:02<00:00, 10.8MB/s]\n",
            "100%|██████████| 29.5k/29.5k [00:00<00:00, 169kB/s]\n",
            "100%|██████████| 4.42M/4.42M [00:01<00:00, 3.31MB/s]\n",
            "100%|██████████| 5.15k/5.15k [00:00<00:00, 13.8MB/s]\n"
          ]
        }
      ],
      "source": [
        "# Download training data from open datasets.\n",
        "training_data = datasets.FashionMNIST(\n",
        "    root=\"data\",\n",
        "    train=True,\n",
        "    download=True,\n",
        "    transform=ToTensor(),\n",
        ")\n",
        "\n",
        "# Download test data from open datasets.\n",
        "test_data = datasets.FashionMNIST(\n",
        "    root=\"data\",\n",
        "    train=False,\n",
        "    download=True,\n",
        "    transform=ToTensor(),\n",
        ")"
      ]
    },
    {
      "cell_type": "markdown",
      "metadata": {
        "id": "M_M7No9yKimp"
      },
      "source": [
        "We pass the `Dataset` as an argument to `DataLoader`. This wraps an\n",
        "iterable over our dataset, and supports automatic batching, sampling,\n",
        "shuffling and multiprocess data loading. Here we define a batch size of\n",
        "64, i.e. each element in the dataloader iterable will return a batch of\n",
        "64 features and labels.\n",
        "\n",
        "batch_size = 64表示每次处理64个样本（如图片）\n",
        "\n",
        "DataLoader会自动将数据集分成多个批次，每次迭代返回一个包含64个样本及其标签的元组(X, y)。\n",
        "train_dataloader = DataLoader(..., shuffle=True)  # 训练集通常需要打乱顺序。\n",
        "DataLoader(..., num_workers=4)  # 使用4个子进程并行加载数据。\n",
        "DataLoader(...,pin_memory=True if torch.cuda.is_available() else False)# 支持pin_memory，可加速GPU数据传输（当使用CUDA时）\n",
        "\n",
        "X.shape输出中的维度含义：[N, C, H, W]分别代表：\n",
        "N: batch size (64)\n",
        "C: channels (如RGB图像的3通道)\n",
        "H: height (图像高度)\n",
        "W: width (图像宽度)"
      ]
    },
    {
      "cell_type": "code",
      "execution_count": null,
      "metadata": {
        "id": "j_zXl4-hKimq",
        "outputId": "f46ae973-cccd-41e4-a216-5035b77edbae",
        "colab": {
          "base_uri": "https://localhost:8080/"
        }
      },
      "outputs": [
        {
          "output_type": "stream",
          "name": "stdout",
          "text": [
            "Shape of X [N, C, H, W]: torch.Size([64, 1, 28, 28])\n",
            "Shape of y: torch.Size([64]) torch.int64\n"
          ]
        }
      ],
      "source": [
        "batch_size = 64\n",
        "\n",
        "# Create data loaders.\n",
        "train_dataloader = DataLoader(training_data, batch_size=batch_size)\n",
        "test_dataloader = DataLoader(test_data, batch_size=batch_size)\n",
        "\n",
        "for X, y in test_dataloader:\n",
        "    print(f\"Shape of X [N, C, H, W]: {X.shape}\")\n",
        "    print(f\"Shape of y: {y.shape} {y.dtype}\")\n",
        "    break"
      ]
    },
    {
      "cell_type": "markdown",
      "metadata": {
        "id": "za09BnMlKims"
      },
      "source": [
        "Read more about [loading data in PyTorch](data_tutorial.html).\n"
      ]
    },
    {
      "cell_type": "markdown",
      "metadata": {
        "id": "WEGIiIOmKimt"
      },
      "source": [
        "------------------------------------------------------------------------\n"
      ]
    },
    {
      "cell_type": "markdown",
      "metadata": {
        "id": "sgNs80q7Kimu"
      },
      "source": [
        "Creating Models\n",
        "===============\n",
        "\n",
        "To define a neural network in PyTorch, we create a class that inherits\n",
        "from\n",
        "[nn.Module](https://pytorch.org/docs/stable/generated/torch.nn.Module.html).\n",
        "We define the layers of the network in the `__init__` function and\n",
        "specify how data will pass through the network in the `forward`\n",
        "function. To accelerate operations in the neural network, we move it to\n",
        "the\n",
        "[accelerator](https://pytorch.org/docs/stable/torch.html#accelerators)\n",
        "such as CUDA, MPS, MTIA, or XPU. If the current accelerator is\n",
        "available, we will use it. Otherwise, we use the CPU.\n",
        "\n",
        "device = torch.accelerator.current_accelerator().type if torch.accelerator.is_available() else \"cpu\"这条语句中torch.accelerator.current_accelerator().type if torch.accelerator.is_available()是一体的，即if成立使用torch.accelerator.current_accelerator().type赋值，不成立用字符串cpu赋值。\n",
        "\n",
        "self.flatten = nn.Flatten() 是创建一个Flatten层实例，会把任意维度的输入张量转换为二维张量：第0维度保留为batch大小（样本数量），其他所有维度被展平成一个维度。在MNIST数据集的情况下（假设这是你正在使用的），输入通常是形状为 [batch_size, 1, 28, 28] 的四维张量（批量大小×通道数×高度×宽度），当数据通过这个Flatten层时：\n",
        "\n",
        "原始形状：[batch_size, 1, 28, 28]\n",
        "\n",
        "Flatten后形状：[batch_size, 1\\*28\\*28] = [batch_size, 784]\n",
        "\n",
        "这样做的目的是将二维图像数据转换为一维向量，以便后续的全连接层（nn.Linear）能够处理。self.flatten = nn.Flatten()将这个层作为模型的一个永久组件保存下来，可以在forward方法中重复使用\n",
        "\n",
        "self.linear_relu_stack = nn.Sequential(...)这段代码定义了一个名为 linear_relu_stack 的神经网络模块，它使用了 PyTorch 的 nn.Sequential 容器将多个线性层（全连接层）和 ReLU 激活函数按顺序堆叠在一起。下面是对代码的逐步解释：\n",
        "\n",
        "1.nn.Sequential这是一个顺序容器，模块会按照它们在构造函数中传递的顺序被依次添加到其中。\n",
        "输入数据会依次通过这些模块，前一个模块的输出是后一个模块的输入。\n",
        "\n",
        "2.网络结构逐层说明\n",
        "\n",
        "第一层：nn.Linear($28\\times28$, 512).这是一个全连接层（线性变换），输入特征维度为 $28\\times28$（假设输入是展平后的 MNIST 图像，尺寸为 $28 \\times 28 = 784$），输出维度为 512。数学形式：$y = Wx + b$，其中 $W$ 是权重矩阵，$b$ 是偏置。\n",
        "\n",
        "第二层：nn.ReLU(). ReLU（Rectified Linear Unit）激活函数，定义为 $\\text{ReLU}(x) = \\max(0, x)$。引入非线性性，增强网络的表达能力。\n",
        "\n",
        "第三层：nn.Linear(512, 512). 又一个全连接层，输入和输出维度均为 512（隐藏层）。\n",
        "\n",
        "第四层：nn.ReLU(). 再次使用 ReLU 激活函数。\n",
        "\n",
        "第五层：nn.Linear(512, 10). 最后的全连接层，输出维度为 10（假设是 MNIST 的 10 分类任务）。\n",
        "\n",
        "无需手动对模型输出做Softmax，PyTorch的 CrossEntropyLoss 已经封装了Softmax和NLL，因此你只需要直接传入模型的原始输出（logits）和标签即可。\n",
        "\n",
        "参数数量：该网络共有约 $(784 \\times512 +512) + (512 \\times512 +512) + (512 \\times10 +10) =669,706$个可训练参数。\n",
        "\n",
        "forward函数的输入和输出形态：\n",
        "\n",
        "假设:batch_size = 64，input image: 1通道，28x28，num_classes = 10。\n",
        "\n",
        "input_shape = [64, 1, 28, 28] #x shape\n",
        "\n",
        "flattened_shape = [64, 784]\n",
        "\n",
        "output_shape = [64, 10]   # logits shape\n",
        "\n",
        "logits存放64张图片分类结果数据，每张图片保存对每个类别的\"原始得分\"，需要后续用softmax转换成概率。"
      ]
    },
    {
      "cell_type": "code",
      "execution_count": null,
      "metadata": {
        "id": "IFmqjlJ1Kimv",
        "outputId": "c68c2342-acaa-4d81-d34b-67e9e6bb1c0c",
        "colab": {
          "base_uri": "https://localhost:8080/"
        }
      },
      "outputs": [
        {
          "output_type": "stream",
          "name": "stdout",
          "text": [
            "Using cuda device\n",
            "NeuralNetwork(\n",
            "  (flatten): Flatten(start_dim=1, end_dim=-1)\n",
            "  (linear_relu_stack): Sequential(\n",
            "    (0): Linear(in_features=784, out_features=512, bias=True)\n",
            "    (1): ReLU()\n",
            "    (2): Linear(in_features=512, out_features=512, bias=True)\n",
            "    (3): ReLU()\n",
            "    (4): Linear(in_features=512, out_features=10, bias=True)\n",
            "  )\n",
            ")\n"
          ]
        }
      ],
      "source": [
        "device = torch.accelerator.current_accelerator().type if torch.accelerator.is_available() else \"cpu\"\n",
        "print(f\"Using {device} device\")\n",
        "\n",
        "# Define model\n",
        "class NeuralNetwork(nn.Module):\n",
        "    def __init__(self):\n",
        "        super().__init__()\n",
        "        self.flatten = nn.Flatten()\n",
        "        self.linear_relu_stack = nn.Sequential(\n",
        "            nn.Linear(28*28, 512),\n",
        "            nn.ReLU(),\n",
        "            nn.Linear(512, 512),\n",
        "            nn.ReLU(),\n",
        "            nn.Linear(512, 10)\n",
        "        )\n",
        "\n",
        "    def forward(self, x):\n",
        "        x = self.flatten(x)\n",
        "        logits = self.linear_relu_stack(x)\n",
        "        return logits\n",
        "\n",
        "model = NeuralNetwork().to(device)\n",
        "print(model)"
      ]
    },
    {
      "cell_type": "markdown",
      "metadata": {
        "id": "OKQXkVkLKimv"
      },
      "source": [
        "Read more about [building neural networks in\n",
        "PyTorch](buildmodel_tutorial.html).\n"
      ]
    },
    {
      "cell_type": "markdown",
      "metadata": {
        "id": "1Zr8lVbuKimw"
      },
      "source": [
        "------------------------------------------------------------------------\n"
      ]
    },
    {
      "cell_type": "markdown",
      "metadata": {
        "id": "1UZ4DrzLKimw"
      },
      "source": [
        "Optimizing the Model Parameters\n",
        "===============================\n",
        "\n",
        "To train a model, we need a [loss\n",
        "function](https://pytorch.org/docs/stable/nn.html#loss-functions) and an\n",
        "[optimizer](https://pytorch.org/docs/stable/optim.html).\n",
        "\n",
        "交叉损失函数参见https://nlpaes.yuque.com/org-wiki-nlpaes-qxmagd/gauhid/hyu7o1dw0iq5gd0b\n",
        "\n",
        "假设：\n",
        "● 模型输出（logits）：[[2.0, -1.0, 0.5], [0.3, -0.2, 1.5]] （批次大小=2，类别数=3）\n",
        "● 标签：[0, 2] （第一张图的真实类是第0类，第二张图是第2类）\n",
        "计算过程：\n",
        "1. Softmax：\n",
        "  ○ 第一行 [2.0, -1.0, 0.5] → [0.705, 0.035, 0.260]\n",
        "  ○ 第二行 [0.3, -0.2, 1.5] → [0.150, 0.100, 0.750]\n",
        "2. NLL：\n",
        "  ○ Loss₁ = -log(0.705) ≈ 0.35\n",
        "  ○ Loss₂ = -log(0.750) ≈ 0.29\n",
        "3. 最终损失最终损失=(0.346+0.287)/2=0.3165\n",
        "\n",
        "学习率参见https://nlpaes.yuque.com/org-wiki-nlpaes-qxmagd/gauhid/nygfwyixr7p01lg7\n",
        "\n",
        "lr用来调整步长，$w_{t+1} = w_t - \\text{lr} \\cdot \\frac{\\partial J}{\\partial w}$，其中J为损失函数。"
      ]
    },
    {
      "cell_type": "code",
      "execution_count": null,
      "metadata": {
        "id": "wG2s7KY6Kimw"
      },
      "outputs": [],
      "source": [
        "loss_fn = nn.CrossEntropyLoss()\n",
        "optimizer = torch.optim.SGD(model.parameters(), lr=1e-3)"
      ]
    },
    {
      "cell_type": "markdown",
      "metadata": {
        "id": "AAwlS7MsKimx"
      },
      "source": [
        "In a single training loop, the model makes predictions on the training\n",
        "dataset (fed to it in batches), and backpropagates the prediction error\n",
        "to adjust the model\\'s parameters.\n",
        "\n",
        "len(dataloader.dataset)获取数据集的总样本数（通过dataloader的dataset属性）\n",
        "\n",
        "for batch, (X, y) in enumerate(dataloader)遍历数据加载器，每次获取一个批次的数据。batch是批次索引，第一轮从数据集取64张图片，batch的值为0。第二轮从数据集取64张图片，batch的值为1。(X, y)分别是特征数据和标签数据。\n",
        "Shape of X: torch.Size([64, 1, 28, 28])\n",
        "Shape of y: torch.Size([64])\n",
        "\n",
        "X, y = X.to(device), y.to(device)将数据移动到指定的设备（如GPU）上\n",
        "\n",
        "pred = model(X)前向传播：计算模型预测值。对于典型的MNIST分类网络（10类），pred是torch.Size([64, 10])，其中每个样本有10个类别的预测分数。\n",
        "\n",
        "loss = loss_fn(pred, y)计算预测值与真实值之间的损失\n",
        "\n",
        "loss.backward()反向传播：计算梯度\n",
        "\n",
        "optimizer.step() # 根据梯度更新模型参数\n",
        "\n",
        "optimizer.zero_grad()清除优化器中的梯度（防止梯度累积）\n",
        "\n",
        "if batch % 100 == 0:每处理100个批次打印一次训练进度\n",
        "\n",
        "loss.item()获取损失的标量值，损失值只从当前64张图片计算，不累积。\n",
        "\n",
        "current计算当前已处理的样本数（批次号+1 * 批次大小），len(X)=64即批次大小。batch=0,100,200,300,...才有信息输出。"
      ]
    },
    {
      "cell_type": "code",
      "execution_count": null,
      "metadata": {
        "id": "Nz8-flrUKimx"
      },
      "outputs": [],
      "source": [
        "def train(dataloader, model, loss_fn, optimizer):\n",
        "    size = len(dataloader.dataset)\n",
        "    model.train()\n",
        "    for batch, (X, y) in enumerate(dataloader):\n",
        "        X, y = X.to(device), y.to(device)\n",
        "\n",
        "        # Compute prediction error\n",
        "        pred = model(X)\n",
        "        loss = loss_fn(pred, y)\n",
        "\n",
        "        # Backpropagation\n",
        "        loss.backward()\n",
        "        optimizer.step()\n",
        "        optimizer.zero_grad()\n",
        "\n",
        "        if batch % 100 == 0:\n",
        "            loss, current = loss.item(), (batch + 1) * len(X)\n",
        "            print(f\"loss: {loss:>7f}  [{current:>5d}/{size:>5d}]\")"
      ]
    },
    {
      "cell_type": "markdown",
      "metadata": {
        "id": "kD-xtzBEKimx"
      },
      "source": [
        "We also check the model\\'s performance against the test dataset to\n",
        "ensure it is learning.\n",
        "\n",
        "size = len(dataloader.dataset)获取测试数据集的总样本数。后续test方法调用形式：test(test_dataloader, model, loss_fn)，从中可以看出传递的是测试数据集。\n",
        "\n",
        "num_batches = len(dataloader)获取测试数据集的批次数量。\n",
        "\n",
        "model.eval()将模型设置为评估模式。这会关闭某些训练时特有的层（如Dropout、BatchNorm等）的行为。\n",
        "\n",
        "with torch.no_grad():创建一个不计算梯度的上下文环境，因为在测试阶段不需要计算梯度，可以节省内存和计算资源。\n",
        "\n",
        "for X, y in dataloader:遍历数据加载器中的每个批次，每次获取：X: 输入特征（一批图像/数据）\n",
        "y: 对应的真实标签。\n",
        "\n",
        "test_loss += loss_fn(pred, y).item()计算当前批次的损失值并累加到总损失中。.item()将单元素的张量转换为Python数值。\n",
        "\n",
        "correct += (pred.argmax(1) == y).type(torch.float).sum().item()计算当前批次中正确预测的样本数并累加：pred.argmax(1): 获取每行预测结果的最大值索引（即预测类别）。== y: 与真实标签比较，返回布尔值张量。.type(torch.float): 将布尔值转换为浮点数（True=1.0，False=0.0）。.sum(): 求和得到当前批次的正确预测数\n",
        "\n",
        "test_loss /= num_batches计算平均测试损失（总损失除以批次数），结果为每批次平均产生的损失量。\n",
        "\n",
        "correct /= size计算准确率（总正确数除以总样本数）。"
      ]
    },
    {
      "cell_type": "code",
      "execution_count": null,
      "metadata": {
        "id": "uy-ruH_kKimy"
      },
      "outputs": [],
      "source": [
        "def test(dataloader, model, loss_fn):\n",
        "    size = len(dataloader.dataset)\n",
        "    num_batches = len(dataloader)\n",
        "    model.eval()\n",
        "    test_loss, correct = 0, 0\n",
        "    with torch.no_grad():\n",
        "        for X, y in dataloader:\n",
        "            X, y = X.to(device), y.to(device)\n",
        "            pred = model(X)\n",
        "            test_loss += loss_fn(pred, y).item()\n",
        "            correct += (pred.argmax(1) == y).type(torch.float).sum().item()\n",
        "    test_loss /= num_batches\n",
        "    correct /= size\n",
        "    print(f\"Test Error: \\n Accuracy: {(100*correct):>0.1f}%, Avg loss: {test_loss:>8f} \\n\")"
      ]
    },
    {
      "cell_type": "markdown",
      "metadata": {
        "id": "Rr2Tz8pxKimy"
      },
      "source": [
        "The training process is conducted over several iterations (*epochs*).\n",
        "During each epoch, the model learns parameters to make better\n",
        "predictions. We print the model\\'s accuracy and loss at each epoch;\n",
        "we\\'d like to see the accuracy increase and the loss decrease with every\n",
        "epoch.\n"
      ]
    },
    {
      "cell_type": "code",
      "execution_count": null,
      "metadata": {
        "id": "_ebJYMETKimz",
        "outputId": "a95331d3-ec8e-4e84-beda-019f923ad53a",
        "colab": {
          "base_uri": "https://localhost:8080/"
        }
      },
      "outputs": [
        {
          "output_type": "stream",
          "name": "stdout",
          "text": [
            "Epoch 1\n",
            "-------------------------------\n",
            "loss: 2.311366  [   64/60000]\n",
            "loss: 2.292379  [ 6464/60000]\n",
            "loss: 2.270364  [12864/60000]\n",
            "loss: 2.259991  [19264/60000]\n",
            "loss: 2.237917  [25664/60000]\n",
            "loss: 2.214977  [32064/60000]\n",
            "loss: 2.221948  [38464/60000]\n",
            "loss: 2.192616  [44864/60000]\n",
            "loss: 2.183903  [51264/60000]\n",
            "loss: 2.143116  [57664/60000]\n",
            "Test Error: \n",
            " Accuracy: 47.1%, Avg loss: 2.143935 \n",
            "\n",
            "Epoch 2\n",
            "-------------------------------\n",
            "loss: 2.161515  [   64/60000]\n",
            "loss: 2.152451  [ 6464/60000]\n",
            "loss: 2.089290  [12864/60000]\n",
            "loss: 2.103713  [19264/60000]\n",
            "loss: 2.053924  [25664/60000]\n",
            "loss: 1.983912  [32064/60000]\n",
            "loss: 2.019530  [38464/60000]\n",
            "loss: 1.944025  [44864/60000]\n",
            "loss: 1.936783  [51264/60000]\n",
            "loss: 1.860970  [57664/60000]\n",
            "Test Error: \n",
            " Accuracy: 60.4%, Avg loss: 1.869253 \n",
            "\n",
            "Epoch 3\n",
            "-------------------------------\n",
            "loss: 1.899861  [   64/60000]\n",
            "loss: 1.878893  [ 6464/60000]\n",
            "loss: 1.756708  [12864/60000]\n",
            "loss: 1.798471  [19264/60000]\n",
            "loss: 1.685683  [25664/60000]\n",
            "loss: 1.628623  [32064/60000]\n",
            "loss: 1.650690  [38464/60000]\n",
            "loss: 1.557584  [44864/60000]\n",
            "loss: 1.569327  [51264/60000]\n",
            "loss: 1.461021  [57664/60000]\n",
            "Test Error: \n",
            " Accuracy: 62.3%, Avg loss: 1.489262 \n",
            "\n",
            "Epoch 4\n",
            "-------------------------------\n",
            "loss: 1.551262  [   64/60000]\n",
            "loss: 1.524625  [ 6464/60000]\n",
            "loss: 1.368677  [12864/60000]\n",
            "loss: 1.448080  [19264/60000]\n",
            "loss: 1.317872  [25664/60000]\n",
            "loss: 1.313601  [32064/60000]\n",
            "loss: 1.329510  [38464/60000]\n",
            "loss: 1.260134  [44864/60000]\n",
            "loss: 1.289713  [51264/60000]\n",
            "loss: 1.188583  [57664/60000]\n",
            "Test Error: \n",
            " Accuracy: 63.5%, Avg loss: 1.221280 \n",
            "\n",
            "Epoch 5\n",
            "-------------------------------\n",
            "loss: 1.295473  [   64/60000]\n",
            "loss: 1.282597  [ 6464/60000]\n",
            "loss: 1.111410  [12864/60000]\n",
            "loss: 1.228218  [19264/60000]\n",
            "loss: 1.093709  [25664/60000]\n",
            "loss: 1.118242  [32064/60000]\n",
            "loss: 1.143474  [38464/60000]\n",
            "loss: 1.084324  [44864/60000]\n",
            "loss: 1.120421  [51264/60000]\n",
            "loss: 1.037776  [57664/60000]\n",
            "Test Error: \n",
            " Accuracy: 64.6%, Avg loss: 1.063846 \n",
            "\n",
            "Done!\n"
          ]
        }
      ],
      "source": [
        "epochs = 5\n",
        "for t in range(epochs):\n",
        "    print(f\"Epoch {t+1}\\n-------------------------------\")\n",
        "    train(train_dataloader, model, loss_fn, optimizer)\n",
        "    test(test_dataloader, model, loss_fn)\n",
        "print(\"Done!\")"
      ]
    },
    {
      "cell_type": "markdown",
      "metadata": {
        "id": "t11y1roIKimz"
      },
      "source": [
        "Read more about [Training your model](optimization_tutorial.html).\n"
      ]
    },
    {
      "cell_type": "markdown",
      "metadata": {
        "id": "Zk8_VWCfKimz"
      },
      "source": [
        "------------------------------------------------------------------------\n"
      ]
    },
    {
      "cell_type": "markdown",
      "metadata": {
        "id": "wlZkrPVpKimz"
      },
      "source": [
        "Saving Models\n",
        "=============\n",
        "\n",
        "A common way to save a model is to serialize the internal state\n",
        "dictionary (containing the model parameters).\n",
        "\n",
        "model.state_dict() 返回的是一个有序字典 (OrderedDict)，其中包含了神经网络模型的所有可学习参数（即权重和偏置）以及一些具有状态信息的层（如 BatchNorm 层中的 running mean 和 running variance）。\n",
        "\n",
        "model.state_dict() 的数据形式大致如下：\n",
        "\n",
        "OrderedDict([\n",
        "\n",
        "    ('linear_relu_stack.0.weight', Tensor(shape=[512, 784])),  # 第一个Linear层的权重\n",
        "\n",
        "    ('linear_relu_stack.0.bias', Tensor(shape=[512])),         # 第一个Linear层的偏置\n",
        "\n",
        "    ('linear_relu_stack.2.weight', Tensor(shape=[512, 512])),  # 第二个Linear层的权重\n",
        "\n",
        "    ('linear_relu_stack.2.bias', Tensor(shape=[512])),         # 第二个Linear层的偏置\n",
        "\n",
        "    ('linear_relu_stack.4.weight', Tensor(shape=[10, 512])),   # 第三个Linear层的权重\n",
        "\n",
        "    ('linear_relu_stack.4.bias', Tensor(shape=[10]))           # 第三个Linear层的偏置\n",
        "\n",
        "])\n",
        "\n",
        "具体说明：\n",
        "\n",
        ".weight：表示线性层的权重矩阵，形状为 [out_features, in_features]\n",
        "\n",
        ".bias：表示线性层的偏置向量，形状为 [out_features]\n",
        "\n",
        "注意：\n",
        "ReLU激活函数没有可训练参数，所以不会出现在state_dict中；\n",
        "nn.Flatten只是操作没有参数，也不会出现在state_dict中。"
      ]
    },
    {
      "cell_type": "code",
      "execution_count": null,
      "metadata": {
        "id": "jfXmuAU6Kim0",
        "outputId": "088177cd-e4e4-4bc2-dae2-88d9349ae5dd",
        "colab": {
          "base_uri": "https://localhost:8080/"
        }
      },
      "outputs": [
        {
          "output_type": "stream",
          "name": "stdout",
          "text": [
            "Saved PyTorch Model State to model.pth\n"
          ]
        }
      ],
      "source": [
        "torch.save(model.state_dict(), \"model.pth\")\n",
        "print(\"Saved PyTorch Model State to model.pth\")\n",
        "￼\n"
      ]
    },
    {
      "cell_type": "markdown",
      "metadata": {
        "id": "0erZf044Kim0"
      },
      "source": [
        "Loading Models\n",
        "==============\n",
        "\n",
        "The process for loading a model includes re-creating the model structure\n",
        "and loading the state dictionary into it.\n",
        "\n",
        "weights_only=True 是 PyTorch 2.1+ 引入的安全参数，表示只允许加载包含张量数据的文件（防止恶意代码执行）。\n",
        "返回的是一个有序字典 (OrderedDict)，包含了模型的所有参数和持久缓冲区。\n"
      ]
    },
    {
      "cell_type": "code",
      "execution_count": null,
      "metadata": {
        "id": "JJfXFTXNKim0",
        "outputId": "027b56cd-a893-4ca6-bc93-3ddd35a79a17",
        "colab": {
          "base_uri": "https://localhost:8080/"
        }
      },
      "outputs": [
        {
          "output_type": "execute_result",
          "data": {
            "text/plain": [
              "<All keys matched successfully>"
            ]
          },
          "metadata": {},
          "execution_count": 11
        }
      ],
      "source": [
        "model = NeuralNetwork().to(device)\n",
        "model.load_state_dict(torch.load(\"model.pth\", weights_only=True))"
      ]
    },
    {
      "cell_type": "markdown",
      "metadata": {
        "id": "yTABYVMCKim0"
      },
      "source": [
        "This model can now be used to make predictions.\n",
        "\n",
        "x = test_data[0][0]: 假设使用了ToTensor()转换，x是一个形状为[1,28,28]的tensor\n",
        "\n",
        "y = test_data[0][1]: 是一个整数标签(如0代表\"T-shirt/top\")\n",
        "\n",
        "模型输入x被送到了device上(x.to(device))，x被转换为tensor格式。"
      ]
    },
    {
      "cell_type": "code",
      "execution_count": null,
      "metadata": {
        "id": "M826ywZtKim1",
        "outputId": "b8052ca2-1c3a-4fa3-81d8-5ce03453c8ab",
        "colab": {
          "base_uri": "https://localhost:8080/"
        }
      },
      "outputs": [
        {
          "output_type": "stream",
          "name": "stdout",
          "text": [
            "Predicted: \"Ankle boot\", Actual: \"Ankle boot\"\n"
          ]
        }
      ],
      "source": [
        "classes = [\n",
        "    \"T-shirt/top\",\n",
        "    \"Trouser\",\n",
        "    \"Pullover\",\n",
        "    \"Dress\",\n",
        "    \"Coat\",\n",
        "    \"Sandal\",\n",
        "    \"Shirt\",\n",
        "    \"Sneaker\",\n",
        "    \"Bag\",\n",
        "    \"Ankle boot\",\n",
        "]\n",
        "\n",
        "model.eval()\n",
        "x, y = test_data[0][0], test_data[0][1]\n",
        "with torch.no_grad():\n",
        "    x = x.to(device)\n",
        "    pred = model(x)\n",
        "    predicted, actual = classes[pred[0].argmax(0)], classes[y]\n",
        "    print(f'Predicted: \"{predicted}\", Actual: \"{actual}\"')"
      ]
    },
    {
      "cell_type": "markdown",
      "metadata": {
        "id": "9MPQnb7bKim1"
      },
      "source": [
        "Read more about [Saving & Loading your\n",
        "model](saveloadrun_tutorial.html).\n"
      ]
    }
  ],
  "metadata": {
    "kernelspec": {
      "display_name": "Python 3",
      "name": "python3"
    },
    "language_info": {
      "codemirror_mode": {
        "name": "ipython",
        "version": 3
      },
      "file_extension": ".py",
      "mimetype": "text/x-python",
      "name": "python",
      "nbconvert_exporter": "python",
      "pygments_lexer": "ipython3",
      "version": "3.10.12"
    },
    "colab": {
      "provenance": [],
      "gpuType": "T4",
      "include_colab_link": true
    },
    "accelerator": "GPU"
  },
  "nbformat": 4,
  "nbformat_minor": 0
}